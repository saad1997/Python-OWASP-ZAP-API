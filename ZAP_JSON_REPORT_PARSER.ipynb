{
 "cells": [
  {
   "cell_type": "markdown",
   "metadata": {},
   "source": [
    "### import json\n",
    "import requests\n",
    "import matplotlib.pyplot as plt\n",
    "import numpy as np\n",
    "import re"
   ]
  },
  {
   "cell_type": "code",
   "execution_count": 39,
   "metadata": {},
   "outputs": [
    {
     "name": "stdout",
     "output_type": "stream",
     "text": [
      "['Cross-Domain JavaScript Source File Inclusion', 'X-Frame-Options Header Not Set', 'Web Browser XSS Protection Not Enabled', 'Absence of Anti-CSRF Tokens']\n",
      "['Low (Medium)', 'Medium (Medium)', 'Low (Medium)', 'Low (Medium)']\n",
      "['30', '1', '1', '2']\n"
     ]
    }
   ],
   "source": [
    "url = \"http://127.0.0.1:8095/OTHER/core/other/jsonreport/?apikey=pbjh2cv3qv6u03ib3llfnpcq5c\"\n",
    "resp = requests.get(url=url)\n",
    "with open(\"C:/Users/Cv/Desktop/127.0.0.1.json\",\"w\") as file:\n",
    "    file.write(resp.text)\n",
    "    file.close()\n",
    "with open(\"C:/Users/Cv/Desktop/127.0.0.1.json\",\"r\") as f:\n",
    "    data = json.load(f)\n",
    "    length = len(data[\"site\"][0][\"alerts\"])\n",
    "    alert_names=[]\n",
    "    alert_riskdesc = []\n",
    "    alert_count = []\n",
    "    for y in range(length-1):\n",
    "        alert_names.append(str(data[\"site\"][0][\"alerts\"][y][\"name\"]))\n",
    "        alert_riskdesc.append(str(data[\"site\"][0][\"alerts\"][y][\"riskdesc\"]))\n",
    "        alert_count.append(str(data[\"site\"][0][\"alerts\"][y][\"count\"]))\n",
    "    print (alert_names)\n",
    "    print (alert_riskdesc)\n",
    "    print (alert_count)"
   ]
  },
  {
   "cell_type": "code",
   "execution_count": 40,
   "metadata": {},
   "outputs": [],
   "source": [
    "alert_count = list(map(int, alert_count))\n",
    "index = np.arange(len(alert_names))"
   ]
  },
  {
   "cell_type": "code",
   "execution_count": 41,
   "metadata": {},
   "outputs": [
    {
     "data": {
      "image/png": "[encoded data removed]",
      "text/plain": [
       "<Figure size 432x288 with 1 Axes>"
      ]
     },
     "metadata": {},
     "output_type": "display_data"
    }
   ],
   "source": [
    "#plt.style.use('ggplot')\n",
    "#plt.bar(index, alert_count)\n",
    "#plt.xlabel('Type', fontsize=5)\n",
    "#plt.ylabel('Instances Found', fontsize=5)\n",
    "#plt.xticks(index, alert_names, fontsize=5, rotation=30)\n",
    "#plt.title('Vulnerabilities Found')\n",
    "#plt.show()"
   ]
  },
  {
   "cell_type": "code",
   "execution_count": 46,
   "metadata": {},
   "outputs": [
    {
     "name": "stdout",
     "output_type": "stream",
     "text": [
      "<!DOCTYPE HTML>\n",
      "<html>\n",
      "<head>  \n",
      "<script>\n",
      "window.onload = function () {\n",
      "\n",
      "var chart = new CanvasJS.Chart(\"chartContainer\", {\n",
      "\tanimationEnabled: true,\n",
      "\ttheme: \"light2\", // \"light1\", \"light2\", \"dark1\", \"dark2\"\n",
      "\ttitle:{\n",
      "\t\ttext: \"Vulnerabilities\"\n",
      "\t},\n",
      "\taxisY: {\n",
      "\t\ttitle: \"Total Instances Found\"\n",
      "\t},\n",
      "\tdata: [{        \n",
      "\t\ttype: \"column\",  \n",
      "\t\tshowInLegend: true, \n",
      "\t\tlegendMarkerColor: \"grey\",\n",
      "\t\tlegendText: \"count\",\n",
      "\t\tdataPoints: [      \n",
      "\t\t\t{ y: 30, label: \"Cross-Domain JavaScript Source File Inclusion\" },\n",
      "\t\t\t{ y: 1, label: \"X-Frame-Options Header Not Set\" },\n",
      "\t\t\t{ y: 1, label: \"Web Browser XSS Protection Not Enabled\" },\n",
      "\t\t\t{ y: 2, label: \"Absence of Anti-CSRF Tokens\" }\n",
      "\t\t]\n",
      "\t}]\n",
      "});\n",
      "chart.render();\n",
      "\n",
      "\n",
      "var chart = new CanvasJS.Chart(\"chartContainers\", {\n",
      "\tanimationEnabled: true,\n",
      "\ttitle: {\n",
      "\t\ttext: \"Vulnerabilities by Severity\"\n",
      "\t},\n",
      "\tdata: [{\n",
      "\t\ttype: \"pie\",\n",
      "\t\tstartAngle: 240,\n",
      "\t\tyValueFormatString: \"##0.00\\\"%\\\"\",\n",
      "\t\tindexLabel: \"{label} {y}\",\n",
      "\t\tdataPoints: [\n",
      "\t\t\t{ y: 0, label: \"High\" },\n",
      "\t\t\t{ y: 1,  label: \"Medium\" },\n",
      "\t\t\t{ y: 34,  label: \"Low\" },\n",
      "\t\t\t{ y: 0,  label: \"Informational\" }\n",
      "\t\t]\n",
      "\t}]\n",
      "});\n",
      "chart.render();\n",
      "\n",
      "\n",
      "\n",
      "}\n",
      "</script>\n",
      "</head>\n",
      "<body>\n",
      "<div id=\"chartContainer\" style=\"height: 370px; max-width: 920px; margin: 0px auto;\"></div>\n",
      "<script src=\"https://canvasjs.com/assets/script/canvasjs.min.js\"></script>\n",
      "\n",
      "<div id=\"chartContainers\" style=\"height: 300px; width: 100%;\"></div>\n",
      "\n",
      "\n",
      "\n",
      "\n",
      "</body>\n",
      "</html>\n"
     ]
    }
   ],
   "source": [
    "with open(\"C:/Users/Cv/Desktop/new2.html\") as inf:\n",
    "    html = inf.read()\n",
    "    html = str(html)\n",
    "\n",
    "#html = re.sub(r\"{ y: 30078, label: \\\"High\\\" },\\{ y: 26455,  label: \\\"Medium\\\" },{ y: 19709,  label: \\\"Low\\\" },{ y: 58400,  label: \\\"Informational\\\" }\", string, txt)\n",
    "#print (html)\n",
    "\n",
    "re1='(\\\\{ y: 30078, label: \"vul1\" \\\\})'\t# Curly Braces 1\n",
    "data = \"\"\"{ y: %s, label: \"%s\" }\"\"\" %(alert_count[0],alert_names[0])\n",
    "rg = re.compile(re1)\n",
    "html = re.sub(rg, data, html)\n",
    "\n",
    "re2='(\\\\{ y: 26455,  label: \"vul2\" \\\\})'\n",
    "data = \"\"\"{ y: %s, label: \"%s\" }\"\"\" %(alert_count[1],alert_names[1])\n",
    "rg = re.compile(re2)\n",
    "html = re.sub(re2, data, html)\n",
    "\n",
    "re3='(\\\\{ y: 19709,  label: \"vul3\" \\\\})'\n",
    "data = \"\"\"{ y: %s, label: \"%s\" }\"\"\" %(alert_count[2],alert_names[2])\n",
    "rg = re.compile(re3)\n",
    "html = re.sub(re3, data, html)\n",
    "\n",
    "re4='(\\\\{ y: 58400,  label: \"vul4\" \\\\})'\n",
    "data = \"\"\"{ y: %s, label: \"%s\" }\"\"\" %(alert_count[3],alert_names[3])\n",
    "rg = re.compile(re4)\n",
    "html = re.sub(re4, data, html)\n",
    "\n",
    "print(html)\n",
    "html = str(html)\n",
    "\n",
    "with open(\"C:/Users/Cv/Desktop/new3.html\",\"w\") as file:\n",
    "    file.write(html)\n",
    "    file.close\n",
    "\n"
   ]
  },
  {
   "cell_type": "code",
   "execution_count": null,
   "metadata": {},
   "outputs": [],
   "source": []
  }
 ],
 "metadata": {
  "kernelspec": {
   "display_name": "Python 3 (ipykernel)",
   "language": "python",
   "name": "python3"
  },
  "language_info": {
   "codemirror_mode": {
    "name": "ipython",
    "version": 3
   },
   "file_extension": ".py",
   "mimetype": "text/x-python",
   "name": "python",
   "nbconvert_exporter": "python",
   "pygments_lexer": "ipython3",
   "version": "3.7.6"
  }
 },
 "nbformat": 4,
 "nbformat_minor": 2
}
